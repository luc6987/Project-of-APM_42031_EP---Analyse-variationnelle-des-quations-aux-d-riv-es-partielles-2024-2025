{
 "cells": [
  {
   "cell_type": "markdown",
   "metadata": {},
   "source": [
    "# Conception d’objets invisibles"
   ]
  },
  {
   "cell_type": "markdown",
   "metadata": {},
   "source": [
    "## Question 1\n",
    "\n",
    "On utilise la methode de la sépertion des varialble: $v(x,y)=\\alpha(x)\\varphi(y)$. Avec $\\rho=1$ et $f=0$, on a\n",
    "$$\n",
    "\\begin{align}\n",
    "-\\Delta (\\alpha(x)\\varphi(y))-\\omega^2\\alpha(x)\\varphi(y)&=0 \\\\\n",
    "-\\frac{\\Delta \\alpha}{\\alpha}=\\omega^2+\\frac{\\Delta\\varphi}{\\varphi}&=C\n",
    "\\end{align}\n",
    "$$\n",
    "\n",
    "Pour la variable $y$, on a:\n",
    "$$\n",
    "\\begin{equation}\n",
    "    \\begin{cases}\n",
    "      -\\frac{\\Delta \\alpha}{\\alpha}=C\\\\\n",
    "      \\partial _y \\alpha |_{y=0}=\\partial _y \\alpha |_{y=1}=0\n",
    "    \\end{cases}\\,.\n",
    "\\end{equation}\n",
    "$$\n",
    "C'est un EDO, donc on peut le soudre:\n",
    "$$\n",
    "\\begin{equation}\n",
    "    \\begin{cases}\n",
    "      \\alpha(y)=cos(n\\pi y) \\\\\n",
    "      C=(n\\pi)^2(n \\in \\mathbb N)\n",
    "    \\end{cases}\\,.\n",
    "\\end{equation}\n",
    "$$\n",
    "Pour la variable $x$, on a:\n",
    "$$\n",
    "      \\omega^2+\\frac{\\Delta\\varphi}{\\varphi}=(n\\pi)^2.\n",
    "$$\n",
    "C'est un EDO, donc on peut le soudre:\n",
    "$$\\varphi(x)=C_1e^{\\sqrt{(n\\pi)^2-\\omega^2}x}+C_2e^{-\\sqrt{(n\\pi)^2-\\omega^2}x}.$$\n",
    "\n",
    "\n",
    "Donc, finalement, on a \n",
    "$$\n",
    "\\begin{equation}\n",
    "v^{\\pm}(x,y) = \n",
    "    \\begin{cases}\n",
    "e^{\\pm i \\sqrt{\\omega^2 - (n\\pi)^2} x} \\cos(n\\pi y) & \\text{pour } n \\in \\mathbb{N}, n < \\frac{\\omega}{\\pi} \\\\\n",
    "e^{\\mp \\sqrt{(n\\pi)^2 - \\omega^2} x} \\cos(n\\pi y) & \\text{pour } n \\in \\mathbb{N}, n > \\frac{\\omega}{\\pi}\n",
    "    \\end{cases}\\,.\n",
    "\\end{equation}\n",
    "$$\n",
    "\n"
   ]
  },
  {
   "cell_type": "markdown",
   "metadata": {},
   "source": [
    "## Question 2\n",
    "\n",
    "En multipliant par $u$ l’équation volumique et en intégrant par parties sur le domaine $\\Omega _L$, on a \n",
    "$$\n",
    "\\int _{\\Omega _L} (\\Delta u + \\omega^2 \\rho  u) d \\Omega=0 .\n",
    "$$\n",
    "En utilisant l'intergration par parties\n",
    "$$ \\int _{\\Omega _L} \\bar u \\Delta ud \\Omega =  \\int _{\\Omega _L} \\nabla \\cdot (\\bar u\\nabla u)d \\Omega- \\int _{\\Omega _L} \\nabla \\bar u\\nabla ud \\Omega,$$\n",
    "et la formule de stokes:\n",
    "$$\\int _{\\Omega _L} \\nabla \\cdot (\\bar u\\nabla u)d \\Omega=\\bar u\\nabla u|_{\\partial \\Omega_L}, $$\n",
    "on a:\n",
    "$$\\int _{\\Omega _L} (\\nabla \\bar u \\cdot \\nabla u - \\omega^2 \\rho \\bar u u) d \\Omega= \\bar u\\nabla u|_{\\partial \\Omega}.$$\n",
    "\n",
    "on a $u=u_i+u_s$, dans l'integration de la direction $y$, en notisant que \n",
    "$$u=\\sum _{n \\in \\mathbb N} u_n e^{\\mp \\sqrt{(n\\pi)^2 - \\omega^2} x} \\cos(n\\pi y)$$ \n",
    "et donc,\n",
    "$$\\bar u = u.$$ \n",
    "Par la periodicité dans la direction $y$, on a\n",
    "$$\\int _{\\Omega _L} ( (\\nabla u)^2 -\\omega^2 \\rho u^2) d \\Omega=\\bar u\\nabla u|_{\\partial \\Omega}.$$\n",
    "\n",
    "soit $s_\\pm=s^\\pm e^{\\pm i\\omega x} $,par la periodicité on a:\n"
   ]
  },
  {
   "cell_type": "markdown",
   "metadata": {},
   "source": [
    "## Question 3\n",
    "Par la périodicité et ma parité de la fonction $cos(n\\pi y)$, on a les résultats par la calculation directe."
   ]
  },
  {
   "cell_type": "markdown",
   "metadata": {},
   "source": []
  }
 ],
 "metadata": {
  "language_info": {
   "name": "python"
  }
 },
 "nbformat": 4,
 "nbformat_minor": 2
}
